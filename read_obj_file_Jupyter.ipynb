{
 "cells": [
  {
   "cell_type": "markdown",
   "id": "f2d2923c",
   "metadata": {},
   "source": [
    "## Extracting Faces & Vertex from the .obj file  "
   ]
  },
  {
   "cell_type": "code",
   "execution_count": null,
   "id": "baff2fd5",
   "metadata": {},
   "outputs": [],
   "source": [
    "#In this assignment I am using python as my language. Unfortunately, OpenGL module is not included by default \n",
    "#sowe need to install it first using pip. I also include pygame to help me creating the window so we need to install that too.\n",
    "pip install PyOpenGL PyOpenGL_accelerate\n",
    "pip install pygame"
   ]
  },
  {
   "cell_type": "code",
   "execution_count": null,
   "id": "7a9db699",
   "metadata": {},
   "outputs": [],
   "source": [
    "#To see how we are going to approach this assignment we need to check what is .obj file itself.\n",
    "#From wikipedia, we can say that .obj is a file contains : geometric vertices(v), texture coordinates(vt), vertex normals(vn), parameter space vertices(vp), and face element(f). Those elements are used to represent a 3D geometry.\n",
    "#In samples given, we will use teddy.obj as our obj file.\n",
    "\n",
    "v 7.49304 -16.145 -3.85419\n",
    "v 3.89555 -16.6003 -5.65267\n",
    "v 7.1955 -17.2256 -2.10135\n",
    "v 5.50509 -16.7471 -4.66901\n",
    "v 6.13653 -15.9249 -5.25062\n",
    "v 6.29974 -17.1925 -3.43905\n",
    "v 6.44628 -14.1865 -6.82055\n",
    "v 5.00347 -16.345 -5.4749\n",
    "v 6.98854 -16.9314 -3.18964\n",
    "f 3 4 2\n",
    "f 8 9 7\n",
    "f 8 7 6\n",
    "f 10 9 8\n",
    "f 14 13 4\n",
    "f 7 16 15\n",
    "f 9 17 16\n",
    "f 9 16 7\n",
    "f 21 22 20\n",
    "f 21 20 19"
   ]
  },
  {
   "cell_type": "code",
   "execution_count": null,
   "id": "cb4145dc",
   "metadata": {},
   "outputs": [],
   "source": [
    "#In python, OpenGL function to draw triangle uses tuple as its vertex and faces parameter so we want to parse our variables into tuples too.\n",
    "#Create a module to parse the file and save it as an object to render in the main window, name it as grafkom1Framework.py.\n",
    "\n",
    "class ObjLoader(object):\n",
    "    def __init__(self, fileName):\n",
    "        self.vertices = []\n",
    "        self.faces = []\n",
    "        ##\n",
    "        try:\n",
    "            f = open(fileName)\n",
    "            for line in f:\n",
    "                if line[:2] == \"v \":\n",
    "                    index1 = line.find(\" \") + 1\n",
    "                    index2 = line.find(\" \", index1 + 1)\n",
    "                    index3 = line.find(\" \", index2 + 1)\n",
    "\n",
    "                    vertex = (float(line[index1:index2]), float(line[index2:index3]), float(line[index3:-1]))\n",
    "                    vertex = (round(vertex[0], 2), round(vertex[1], 2), round(vertex[2], 2))\n",
    "                    self.vertices.append(vertex)\n",
    "\n",
    "                elif line[0] == \"f\":\n",
    "                    string = line.replace(\"//\", \"/\")\n",
    "                    ##\n",
    "                    i = string.find(\" \") + 1\n",
    "                    face = []\n",
    "                    for item in range(string.count(\" \")):\n",
    "                        if string.find(\" \", i) == -1:\n",
    "                            face.append(string[i:-1])\n",
    "                            break\n",
    "                        face.append(string[i:string.find(\" \", i)])\n",
    "                        i = string.find(\" \", i) + 1\n",
    "                    ##\n",
    "                    self.faces.append(tuple(face))\n",
    "\n",
    "            f.close()\n",
    "        except IOError:\n",
    "            print(\".obj file not found.\")"
   ]
  },
  {
   "cell_type": "code",
   "execution_count": null,
   "id": "279469ab",
   "metadata": {},
   "outputs": [],
   "source": [
    "#Since code above is a modified code, we see some unnecessary stuff added to handle different format of .obj which includes elements of vt, vn, and variations of value in f. For now, we can ignore those and focus on our parsed \n",
    "#data which now are stored as tuple and can be used to render triangles in OpenGL\n",
    "vertex = {tuple}: (a, b, c)\n",
    "faces = {tuple}: (x, y, z)"
   ]
  },
  {
   "cell_type": "code",
   "execution_count": null,
   "id": "1f773ab7",
   "metadata": {},
   "outputs": [],
   "source": []
  },
  {
   "cell_type": "code",
   "execution_count": null,
   "id": "c684021e",
   "metadata": {},
   "outputs": [],
   "source": []
  },
  {
   "cell_type": "code",
   "execution_count": null,
   "id": "49348a20",
   "metadata": {},
   "outputs": [],
   "source": []
  }
 ],
 "metadata": {
  "kernelspec": {
   "display_name": "Python 3",
   "language": "python",
   "name": "python3"
  },
  "language_info": {
   "codemirror_mode": {
    "name": "ipython",
    "version": 3
   },
   "file_extension": ".py",
   "mimetype": "text/x-python",
   "name": "python",
   "nbconvert_exporter": "python",
   "pygments_lexer": "ipython3",
   "version": "3.9.1"
  }
 },
 "nbformat": 4,
 "nbformat_minor": 5
}
